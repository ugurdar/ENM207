{
 "cells": [
  {
   "cell_type": "code",
   "execution_count": 8,
   "metadata": {},
   "outputs": [],
   "source": [
    "import pandas as pd\n",
    "import matplotlib.pyplot as plt\n",
    "import numpy as np\n",
    "import random \n",
    "\n",
    "random.seed(26)\n",
    "# Generating random variable from UNIF(50,100) size = 10\n",
    "Travel = np.random.uniform(50,100,10)\n",
    "# Generating random variable from UNIF(1,150) size = 200\n",
    "Food = np.random.uniform(1,150,200)\n",
    "# Generating random variable from UNIF(100,500) size = 10\n",
    "Entertainment = np.random.uniform(100,500,10)\n",
    "# Generating random variable from UNIF(20,100) size = 10\n",
    "SelfImp = np.random.uniform(20,100,10)\n",
    "# Generating random variable from UNIF(10,300) size = 5\n",
    "PerCare = np.random.uniform(10,300,5)\n",
    "# Generating random variable from UNIF(300,1200) size = 5\n",
    "RentBills = np.random.uniform(300,1200,5)\n",
    "\n",
    "# Sector names\n",
    "Sector = [\"Travel\",\"Food\",\"Entertainment\",\"SelfImp\",\"PerCare\",\"RentBills\"]\n",
    "\n",
    "# Synthetic inflation rates by months\n",
    "Sektorur = {'Travel': [1,1.1,1.3,1.5,1.7,1.9] ,\n",
    "           'Food': [1,1.9,2.5,2.9,3.2,3.80],\n",
    "           'Entertainment' : [1,1.11,1.3,1.4,1.8,1.9],\n",
    "           'SelfImp' : [2,2.4,2.1,2.9,2.1,2.2],\n",
    "           'PerCare': [1,1,1.45,1.75,2.3,2.8],\n",
    "           'RentBills': [1,1.6,1.3,1.5,1.89,2]}\n",
    "\n",
    "liste0,liste1,liste2,liste3,liste4,liste5 = [],[],[],[],[],[]\n",
    "\n",
    "# j represent names of Sector\n",
    "for j in range(6):\n",
    "    for i in range(6):\n",
    "        globals()['liste'+str(j)].append(Sektorur[Sector[j]][i] * globals()[Sector[j]])\n",
    "    \n",
    "    # For months\n",
    "    for i in range(6):\n",
    "        globals()['df'+str(i)]= pd.DataFrame(globals()['liste'+str(j)][i])\n",
    "        globals()['df'+str(i)] ['Month'] = i+1\n",
    "        globals()['df'+str(i)] ['Sector'] = Sector[j]\n",
    "    # df0,df1,...,df5 are data.frame for each month\n",
    "    globals()['df_'+Sector[j]] = pd.concat([df0,df1,df2,df3,df4,df5], axis=0)\n",
    "\n",
    "    \n",
    "# df_Travel,...,df_RentBills are data.frame for each Sector and df is their combined form.\n",
    "df = pd.concat([df_Travel,df_Food,df_Entertainment,df_SelfImp,df_PerCare,df_RentBills], axis=0)\n",
    "# to arrange idexes\n",
    "data = df.reset_index(drop=True)\n",
    "data.columns = ['Expenses','Month','Sector']\n",
    "#data.head(15)\n",
    "data.to_csv('data2020.csv',index=False)"
   ]
  },
  {
   "cell_type": "code",
   "execution_count": null,
   "metadata": {},
   "outputs": [
    {
     "name": "stdout",
     "output_type": "stream",
     "text": [
      "\n",
      "# Main Menu\n",
      "------------------------------------------\n",
      "(0) Show the Data                             \n",
      "(1) Inflation Rate by Monthly and Sectoral\n",
      "(2) Expenses Statistics \n",
      "(3) Expenses Graphs\n",
      "(4) New Data Entry\n",
      "(q) Quit\n",
      "\n"
     ]
    },
    {
     "name": "stdin",
     "output_type": "stream",
     "text": [
      "Please select operation:  0\n"
     ]
    },
    {
     "name": "stdout",
     "output_type": "stream",
     "text": [
      "         Expenses  Month     Sector\n",
      "0       51.357704      1     Travel\n",
      "1       63.357934      1     Travel\n",
      "2       58.176984      1     Travel\n",
      "3       50.029427      1     Travel\n",
      "4       54.219115      1     Travel\n",
      "...           ...    ...        ...\n",
      "1435  2185.359750      6  RentBills\n",
      "1436   987.222136      6  RentBills\n",
      "1437  1932.079674      6  RentBills\n",
      "1438  1468.692007      6  RentBills\n",
      "1439  1948.790793      6  RentBills\n",
      "\n",
      "[1440 rows x 3 columns]\n",
      "\n",
      "# Main Menu\n",
      "------------------------------------------\n",
      "(0) Show the Data                             \n",
      "(1) Inflation Rate by Monthly and Sectoral\n",
      "(2) Expenses Statistics \n",
      "(3) Expenses Graphs\n",
      "(4) New Data Entry\n",
      "(q) Quit\n",
      "\n"
     ]
    },
    {
     "name": "stdin",
     "output_type": "stream",
     "text": [
      "Please select operation:  1\n"
     ]
    },
    {
     "name": "stdout",
     "output_type": "stream",
     "text": [
      " # Inflation Rate by Monthly and Sectoral Menu\n",
      "                  ----------------------------------------------\n",
      "   Month    Travel      Food  Entertainment   SelfImp   PerCare  RentBills\n",
      "0      2  0.100000  0.900000       0.110000  0.200000  0.000000   0.600000\n",
      "1      3  0.181818  0.315789       0.171171 -0.125000  0.450000  -0.187500\n",
      "2      4  0.153846  0.160000       0.076923  0.380952  0.206897   0.153846\n",
      "3      5  0.133333  0.103448       0.285714 -0.275862  0.314286   0.260000\n",
      "4      6  0.117647  0.187500       0.055556  0.047619  0.217391   0.058201\n",
      "\n",
      "# Main Menu\n",
      "------------------------------------------\n",
      "(0) Show the Data                             \n",
      "(1) Inflation Rate by Monthly and Sectoral\n",
      "(2) Expenses Statistics \n",
      "(3) Expenses Graphs\n",
      "(4) New Data Entry\n",
      "(q) Quit\n",
      "\n"
     ]
    },
    {
     "name": "stdin",
     "output_type": "stream",
     "text": [
      "Please select operation:  2\n"
     ]
    },
    {
     "name": "stdout",
     "output_type": "stream",
     "text": [
      "\n",
      "          # Expenses Statistics Menu\n",
      "          (1) Monthly Statistics\n",
      "          (2) Sectoral Statistics\n",
      "          (3) Monthly and Sectoral Statistics\n",
      "          (q) Back to Main Menu\n",
      "          \n"
     ]
    },
    {
     "name": "stdin",
     "output_type": "stream",
     "text": [
      "Please select operation:  1\n",
      "If you want to view statistics for a specific month, enter the month number, enter All for all months. 2\n"
     ]
    },
    {
     "name": "stdout",
     "output_type": "stream",
     "text": [
      "          Expenses\n",
      "count   240.000000\n",
      "mean    171.393873\n",
      "std     204.123789\n",
      "min       2.265245\n",
      "25%      65.920107\n",
      "50%     143.088167\n",
      "75%     214.818387\n",
      "max    1748.287800\n",
      "\n",
      "          # Expenses Statistics Menu\n",
      "          (1) Monthly Statistics\n",
      "          (2) Sectoral Statistics\n",
      "          (3) Monthly and Sectoral Statistics\n",
      "          (q) Back to Main Menu\n",
      "          \n"
     ]
    },
    {
     "name": "stdin",
     "output_type": "stream",
     "text": [
      "Please select operation:  2\n"
     ]
    },
    {
     "name": "stdout",
     "output_type": "stream",
     "text": [
      "\n",
      "                  Sector         Input\n",
      "                  --------------------\n",
      "                  Travel          :1\n",
      "                  Food            :2  \n",
      "                  Entertainment   :3\n",
      "                  SelfImp         :4\n",
      "                  PerCare         :5\n",
      "                  RentBills       :6\n",
      "                  All             :All\n",
      "                  \n"
     ]
    },
    {
     "name": "stdin",
     "output_type": "stream",
     "text": [
      "Please select operation:  1\n"
     ]
    },
    {
     "name": "stdout",
     "output_type": "stream",
     "text": [
      "         Expenses\n",
      "count   60.000000\n",
      "mean    98.104072\n",
      "std     32.332184\n",
      "min     50.029427\n",
      "25%     74.325628\n",
      "50%     93.870686\n",
      "75%    115.236754\n",
      "max    185.414576\n",
      "\n",
      "          # Expenses Statistics Menu\n",
      "          (1) Monthly Statistics\n",
      "          (2) Sectoral Statistics\n",
      "          (3) Monthly and Sectoral Statistics\n",
      "          (q) Back to Main Menu\n",
      "          \n"
     ]
    },
    {
     "name": "stdin",
     "output_type": "stream",
     "text": [
      "Please select operation:  3\n"
     ]
    },
    {
     "name": "stdout",
     "output_type": "stream",
     "text": [
      "\n",
      "                  Sector         Input\n",
      "                  --------------------\n",
      "                  Travel          :1\n",
      "                  Food            :2  \n",
      "                  Entertainment   :3\n",
      "                  SelfImp         :4\n",
      "                  PerCare         :5\n",
      "                  RentBills       :6\n",
      "                  All             :All\n",
      "                  \n"
     ]
    },
    {
     "name": "stdin",
     "output_type": "stream",
     "text": [
      "Select Sector : All\n",
      "If you want to view statistics for a specific month, enter the month number, enter All for all months. All\n"
     ]
    },
    {
     "name": "stdout",
     "output_type": "stream",
     "text": [
      "                     count         mean         std         min          25%  \\\n",
      "Month Sector                                                                   \n",
      "1     Entertainment   10.0   338.644242  118.341929  157.974692   236.261605   \n",
      "      Food           200.0    71.186823   42.232876    1.192234    33.542100   \n",
      "      PerCare          5.0   203.817531   86.363255   78.259660   153.707813   \n",
      "      RentBills        5.0   852.214436  238.850047  493.611068   734.346003   \n",
      "      SelfImp         10.0   143.836109   42.211169   71.664438   128.622674   \n",
      "      Travel          10.0    69.249933   16.896671   50.029427    55.208583   \n",
      "2     Entertainment   10.0   375.895109  131.359541  175.351908   262.250382   \n",
      "      Food           200.0   135.254964   80.242465    2.265245    63.729991   \n",
      "      PerCare          5.0   203.817531   86.363255   78.259660   153.707813   \n",
      "      RentBills        5.0  1363.543098  382.160075  789.777709  1174.953606   \n",
      "      SelfImp         10.0   172.603331   50.653403   85.997326   154.347208   \n",
      "      Travel          10.0    76.174927   18.586338   55.032370    60.729441   \n",
      "3     Entertainment   10.0   440.237515  153.844507  205.367100   307.140087   \n",
      "      Food           200.0   177.967058  105.582190    2.980586    83.855251   \n",
      "      PerCare          5.0   295.535421  125.226719  113.476506   222.876329   \n",
      "      RentBills        5.0  1107.878767  310.505061  641.694388   954.649805   \n",
      "      SelfImp         10.0   151.027914   44.321727   75.247660   135.053807   \n",
      "      Travel          10.0    90.024913   21.965672   65.038255    71.771158   \n",
      "4     Entertainment   10.0   474.101939  165.678700  221.164569   330.766247   \n",
      "      Food           200.0   206.441787  122.475341    3.457480    97.272091   \n",
      "      PerCare          5.0   356.680680  151.135696  136.954404   268.988673   \n",
      "      RentBills        5.0  1278.321654  358.275070  740.416602  1101.519005   \n",
      "      SelfImp         10.0   208.562358   61.206195  103.913436   186.502877   \n",
      "      Travel          10.0   103.874900   25.345006   75.044141    82.812874   \n",
      "5     Entertainment   10.0   609.559636  213.015472  284.354446   425.270889   \n",
      "      Food           200.0   227.797834  135.145204    3.815150   107.334721   \n",
      "      PerCare          5.0   468.780322  198.635486  179.997217   353.527970   \n",
      "      RentBills        5.0  1610.685284  451.426588  932.924918  1387.913947   \n",
      "      SelfImp         10.0   151.027914   44.321727   75.247660   135.053807   \n",
      "      Travel          10.0   117.724887   28.724341   85.050026    93.854591   \n",
      "6     Entertainment   10.0   643.424060  224.849665  300.151915   448.897050   \n",
      "      Food           200.0   270.509928  160.484929    4.530491   127.459981   \n",
      "      PerCare          5.0   570.689088  241.817113  219.127047   430.381877   \n",
      "      RentBills        5.0  1704.428872  477.700094  987.222136  1468.692007   \n",
      "      SelfImp         10.0   158.219720   46.432286   78.830882   141.484941   \n",
      "      Travel          10.0   131.574873   32.103675   95.055912   104.896307   \n",
      "\n",
      "                             50%          75%          max  \n",
      "Month Sector                                                \n",
      "1     Entertainment   346.659832   446.802465   472.834181  \n",
      "      Food             72.293690   103.637877   149.134873  \n",
      "      PerCare         239.769684   257.770457   289.580044  \n",
      "      RentBills       966.039837   974.395397  1092.679875  \n",
      "      SelfImp         147.421812   181.588559   187.444663  \n",
      "      Travel           64.483553    83.347776    97.586619  \n",
      "2     Entertainment   384.792414   495.950736   524.845941  \n",
      "      Food            137.358011   196.911966   283.356258  \n",
      "      PerCare         239.769684   257.770457   289.580044  \n",
      "      RentBills      1545.663739  1559.032635  1748.287800  \n",
      "      SelfImp         176.906175   217.906271   224.933595  \n",
      "      Travel           70.931908    91.682554   107.345281  \n",
      "3     Entertainment   450.657782   580.843204   614.684436  \n",
      "      Food            180.734225   259.094692   372.837182  \n",
      "      PerCare         347.666041   373.767163   419.891064  \n",
      "      RentBills      1255.851788  1266.714016  1420.483838  \n",
      "      SelfImp         154.792903   190.667987   196.816896  \n",
      "      Travel           83.828618   108.352109   126.862605  \n",
      "4     Entertainment   485.323765   625.523451   661.967854  \n",
      "      Food            209.651701   300.549842   432.491131  \n",
      "      PerCare         419.596946   451.098300   506.765077  \n",
      "      RentBills      1449.059756  1461.593095  1639.019813  \n",
      "      SelfImp         213.761628   263.303411   271.794761  \n",
      "      Travel           96.725329   125.021664   146.379929  \n",
      "5     Entertainment   623.987698   804.244436   851.101526  \n",
      "      Food            231.339808   331.641205   477.231592  \n",
      "      PerCare         551.470272   592.872051   666.034101  \n",
      "      RentBills      1825.815292  1841.607300  2065.164964  \n",
      "      SelfImp         154.792903   190.667987   196.816896  \n",
      "      Travel          109.622039   141.691220   165.897253  \n",
      "6     Entertainment   658.653681   848.924683   898.384944  \n",
      "      Food            274.716022   393.823932   566.712516  \n",
      "      PerCare         671.355114   721.757280   810.824123  \n",
      "      RentBills      1932.079674  1948.790793  2185.359750  \n",
      "      SelfImp         162.163993   199.747415   206.189129  \n",
      "      Travel          122.518750   158.360775   185.414576  \n",
      "\n",
      "          # Expenses Statistics Menu\n",
      "          (1) Monthly Statistics\n",
      "          (2) Sectoral Statistics\n",
      "          (3) Monthly and Sectoral Statistics\n",
      "          (q) Back to Main Menu\n",
      "          \n"
     ]
    },
    {
     "name": "stdin",
     "output_type": "stream",
     "text": [
      "Please select operation:  q\n"
     ]
    },
    {
     "name": "stdout",
     "output_type": "stream",
     "text": [
      "Switching to the Main Menu...\n",
      "\n",
      "# Main Menu\n",
      "------------------------------------------\n",
      "(0) Show the Data                             \n",
      "(1) Inflation Rate by Monthly and Sectoral\n",
      "(2) Expenses Statistics \n",
      "(3) Expenses Graphs\n",
      "(4) New Data Entry\n",
      "(q) Quit\n",
      "\n"
     ]
    },
    {
     "name": "stdin",
     "output_type": "stream",
     "text": [
      "Please select operation:  3\n"
     ]
    },
    {
     "name": "stdout",
     "output_type": "stream",
     "text": [
      "\n",
      "            # Expenses Graphs Menu\n",
      "            -------------------------------------------\n",
      "            (1) Line Graph Based on Months and Secotrs\n",
      "            (2) Box-Plot based on Months\n",
      "            (3) Box-Plot based on Sectors\n",
      "            (4) Bar Chart based on Months and Sectors\n",
      "            (5) Bar Chart based on Months\n",
      "            (6) Bar Chart based on Sectors\n",
      "            (q) Back to Main Menu\n",
      "            \n"
     ]
    },
    {
     "name": "stdin",
     "output_type": "stream",
     "text": [
      "Please select operation : 1\n"
     ]
    },
    {
     "data": {
      "image/png": "[encoded data removed]",
      "text/plain": [
       "<Figure size 720x504 with 1 Axes>"
      ]
     },
     "metadata": {
      "needs_background": "light"
     },
     "output_type": "display_data"
    },
    {
     "name": "stdout",
     "output_type": "stream",
     "text": [
      "\n",
      "            # Expenses Graphs Menu\n",
      "            -------------------------------------------\n",
      "            (1) Line Graph Based on Months and Secotrs\n",
      "            (2) Box-Plot based on Months\n",
      "            (3) Box-Plot based on Sectors\n",
      "            (4) Bar Chart based on Months and Sectors\n",
      "            (5) Bar Chart based on Months\n",
      "            (6) Bar Chart based on Sectors\n",
      "            (q) Back to Main Menu\n",
      "            \n"
     ]
    },
    {
     "name": "stdin",
     "output_type": "stream",
     "text": [
      "Please select operation : 2\n"
     ]
    },
    {
     "data": {
      "image/png": "[encoded data removed]",
      "text/plain": [
       "<Figure size 720x504 with 1 Axes>"
      ]
     },
     "metadata": {
      "needs_background": "light"
     },
     "output_type": "display_data"
    },
    {
     "name": "stdout",
     "output_type": "stream",
     "text": [
      "\n",
      "            # Expenses Graphs Menu\n",
      "            -------------------------------------------\n",
      "            (1) Line Graph Based on Months and Secotrs\n",
      "            (2) Box-Plot based on Months\n",
      "            (3) Box-Plot based on Sectors\n",
      "            (4) Bar Chart based on Months and Sectors\n",
      "            (5) Bar Chart based on Months\n",
      "            (6) Bar Chart based on Sectors\n",
      "            (q) Back to Main Menu\n",
      "            \n"
     ]
    },
    {
     "name": "stdin",
     "output_type": "stream",
     "text": [
      "Please select operation : 3\n"
     ]
    },
    {
     "data": {
      "image/png": "[encoded data removed]",
      "text/plain": [
       "<Figure size 720x504 with 1 Axes>"
      ]
     },
     "metadata": {
      "needs_background": "light"
     },
     "output_type": "display_data"
    },
    {
     "name": "stdout",
     "output_type": "stream",
     "text": [
      "\n",
      "            # Expenses Graphs Menu\n",
      "            -------------------------------------------\n",
      "            (1) Line Graph Based on Months and Secotrs\n",
      "            (2) Box-Plot based on Months\n",
      "            (3) Box-Plot based on Sectors\n",
      "            (4) Bar Chart based on Months and Sectors\n",
      "            (5) Bar Chart based on Months\n",
      "            (6) Bar Chart based on Sectors\n",
      "            (q) Back to Main Menu\n",
      "            \n"
     ]
    },
    {
     "name": "stdin",
     "output_type": "stream",
     "text": [
      "Please select operation : 4\n"
     ]
    },
    {
     "data": {
      "image/png": "[encoded data removed]",
      "text/plain": [
       "<Figure size 720x504 with 1 Axes>"
      ]
     },
     "metadata": {
      "needs_background": "light"
     },
     "output_type": "display_data"
    },
    {
     "name": "stdout",
     "output_type": "stream",
     "text": [
      "\n",
      "            # Expenses Graphs Menu\n",
      "            -------------------------------------------\n",
      "            (1) Line Graph Based on Months and Secotrs\n",
      "            (2) Box-Plot based on Months\n",
      "            (3) Box-Plot based on Sectors\n",
      "            (4) Bar Chart based on Months and Sectors\n",
      "            (5) Bar Chart based on Months\n",
      "            (6) Bar Chart based on Sectors\n",
      "            (q) Back to Main Menu\n",
      "            \n"
     ]
    },
    {
     "name": "stdin",
     "output_type": "stream",
     "text": [
      "Please select operation : 5\n"
     ]
    },
    {
     "data": {
      "image/png": "[encoded data removed]",
      "text/plain": [
       "<Figure size 720x504 with 1 Axes>"
      ]
     },
     "metadata": {
      "needs_background": "light"
     },
     "output_type": "display_data"
    },
    {
     "name": "stdout",
     "output_type": "stream",
     "text": [
      "\n",
      "            # Expenses Graphs Menu\n",
      "            -------------------------------------------\n",
      "            (1) Line Graph Based on Months and Secotrs\n",
      "            (2) Box-Plot based on Months\n",
      "            (3) Box-Plot based on Sectors\n",
      "            (4) Bar Chart based on Months and Sectors\n",
      "            (5) Bar Chart based on Months\n",
      "            (6) Bar Chart based on Sectors\n",
      "            (q) Back to Main Menu\n",
      "            \n"
     ]
    },
    {
     "name": "stdin",
     "output_type": "stream",
     "text": [
      "Please select operation : 6\n"
     ]
    },
    {
     "data": {
      "image/png": "[encoded data removed]",
      "text/plain": [
       "<Figure size 720x504 with 1 Axes>"
      ]
     },
     "metadata": {
      "needs_background": "light"
     },
     "output_type": "display_data"
    },
    {
     "name": "stdout",
     "output_type": "stream",
     "text": [
      "\n",
      "            # Expenses Graphs Menu\n",
      "            -------------------------------------------\n",
      "            (1) Line Graph Based on Months and Secotrs\n",
      "            (2) Box-Plot based on Months\n",
      "            (3) Box-Plot based on Sectors\n",
      "            (4) Bar Chart based on Months and Sectors\n",
      "            (5) Bar Chart based on Months\n",
      "            (6) Bar Chart based on Sectors\n",
      "            (q) Back to Main Menu\n",
      "            \n"
     ]
    },
    {
     "name": "stdin",
     "output_type": "stream",
     "text": [
      "Please select operation : q\n"
     ]
    },
    {
     "name": "stdout",
     "output_type": "stream",
     "text": [
      "Switching to the Main Menu...\n",
      "\n",
      "# Main Menu\n",
      "------------------------------------------\n",
      "(0) Show the Data                             \n",
      "(1) Inflation Rate by Monthly and Sectoral\n",
      "(2) Expenses Statistics \n",
      "(3) Expenses Graphs\n",
      "(4) New Data Entry\n",
      "(q) Quit\n",
      "\n"
     ]
    },
    {
     "name": "stdin",
     "output_type": "stream",
     "text": [
      "Please select operation:  4\n"
     ]
    },
    {
     "name": "stdout",
     "output_type": "stream",
     "text": [
      "\n",
      "                  # New Data Entry Menu\n",
      "                  ---------------------\n",
      "                  Sector         Input\n",
      "                  Travel          :1\n",
      "                  Food            :2  \n",
      "                  Entertainment   :3\n",
      "                  SelfImp         :4\n",
      "                  PerCare         :5\n",
      "                  RentBills       :6\n",
      "                  SaveData        :s\n",
      "                  Quit            :q\n",
      "                  \n"
     ]
    },
    {
     "name": "stdin",
     "output_type": "stream",
     "text": [
      "Sector :  2\n",
      "Input expense  7.25\n"
     ]
    },
    {
     "name": "stdout",
     "output_type": "stream",
     "text": [
      "Sector : Food and Expense : 7.250000\n"
     ]
    },
    {
     "name": "stdin",
     "output_type": "stream",
     "text": [
      "If you confirm input 1, if not input 0  1\n"
     ]
    },
    {
     "name": "stdout",
     "output_type": "stream",
     "text": [
      "Data updated succesfully.\n",
      "\n",
      "                  # New Data Entry Menu\n",
      "                  ---------------------\n",
      "                  Sector         Input\n",
      "                  Travel          :1\n",
      "                  Food            :2  \n",
      "                  Entertainment   :3\n",
      "                  SelfImp         :4\n",
      "                  PerCare         :5\n",
      "                  RentBills       :6\n",
      "                  SaveData        :s\n",
      "                  Quit            :q\n",
      "                  \n"
     ]
    },
    {
     "name": "stdin",
     "output_type": "stream",
     "text": [
      "Sector :  s\n"
     ]
    },
    {
     "name": "stdout",
     "output_type": "stream",
     "text": [
      "         Expenses  Month     Sector\n",
      "0       51.357704      1     Travel\n",
      "1       63.357934      1     Travel\n",
      "2       58.176984      1     Travel\n",
      "3       50.029427      1     Travel\n",
      "4       54.219115      1     Travel\n",
      "...           ...    ...        ...\n",
      "1436   987.222136      6  RentBills\n",
      "1437  1932.079674      6  RentBills\n",
      "1438  1468.692007      6  RentBills\n",
      "1439  1948.790793      6  RentBills\n",
      "0        7.250000      7       Food\n",
      "\n",
      "[1441 rows x 3 columns]\n"
     ]
    },
    {
     "name": "stdin",
     "output_type": "stream",
     "text": [
      "If you confirm to save the data input 1, if not 0 1\n"
     ]
    },
    {
     "name": "stdout",
     "output_type": "stream",
     "text": [
      "Data saved succesfully.\n",
      "Switching to the Main Menu...\n",
      "\n",
      "# Main Menu\n",
      "------------------------------------------\n",
      "(0) Show the Data                             \n",
      "(1) Inflation Rate by Monthly and Sectoral\n",
      "(2) Expenses Statistics \n",
      "(3) Expenses Graphs\n",
      "(4) New Data Entry\n",
      "(q) Quit\n",
      "\n"
     ]
    },
    {
     "name": "stdin",
     "output_type": "stream",
     "text": [
      "Please select operation:  0\n"
     ]
    },
    {
     "name": "stdout",
     "output_type": "stream",
     "text": [
      "         Expenses  Month     Sector\n",
      "0       51.357704      1     Travel\n",
      "1       63.357934      1     Travel\n",
      "2       58.176984      1     Travel\n",
      "3       50.029427      1     Travel\n",
      "4       54.219115      1     Travel\n",
      "...           ...    ...        ...\n",
      "1436   987.222136      6  RentBills\n",
      "1437  1932.079674      6  RentBills\n",
      "1438  1468.692007      6  RentBills\n",
      "1439  1948.790793      6  RentBills\n",
      "0        7.250000      7       Food\n",
      "\n",
      "[1441 rows x 3 columns]\n",
      "\n",
      "# Main Menu\n",
      "------------------------------------------\n",
      "(0) Show the Data                             \n",
      "(1) Inflation Rate by Monthly and Sectoral\n",
      "(2) Expenses Statistics \n",
      "(3) Expenses Graphs\n",
      "(4) New Data Entry\n",
      "(q) Quit\n",
      "\n"
     ]
    },
    {
     "name": "stdin",
     "output_type": "stream",
     "text": [
      "Please select operation:  3\n"
     ]
    },
    {
     "name": "stdout",
     "output_type": "stream",
     "text": [
      "\n",
      "            # Expenses Graphs Menu\n",
      "            -------------------------------------------\n",
      "            (1) Line Graph Based on Months and Secotrs\n",
      "            (2) Box-Plot based on Months\n",
      "            (3) Box-Plot based on Sectors\n",
      "            (4) Bar Chart based on Months and Sectors\n",
      "            (5) Bar Chart based on Months\n",
      "            (6) Bar Chart based on Sectors\n",
      "            (q) Back to Main Menu\n",
      "            \n"
     ]
    },
    {
     "name": "stdin",
     "output_type": "stream",
     "text": [
      "Please select operation : 5\n"
     ]
    },
    {
     "data": {
      "image/png": "[encoded data removed]",
      "text/plain": [
       "<Figure size 720x504 with 1 Axes>"
      ]
     },
     "metadata": {
      "needs_background": "light"
     },
     "output_type": "display_data"
    },
    {
     "name": "stdout",
     "output_type": "stream",
     "text": [
      "\n",
      "            # Expenses Graphs Menu\n",
      "            -------------------------------------------\n",
      "            (1) Line Graph Based on Months and Secotrs\n",
      "            (2) Box-Plot based on Months\n",
      "            (3) Box-Plot based on Sectors\n",
      "            (4) Bar Chart based on Months and Sectors\n",
      "            (5) Bar Chart based on Months\n",
      "            (6) Bar Chart based on Sectors\n",
      "            (q) Back to Main Menu\n",
      "            \n"
     ]
    },
    {
     "name": "stdin",
     "output_type": "stream",
     "text": [
      "Please select operation : q\n"
     ]
    },
    {
     "name": "stdout",
     "output_type": "stream",
     "text": [
      "Switching to the Main Menu...\n",
      "\n",
      "# Main Menu\n",
      "------------------------------------------\n",
      "(0) Show the Data                             \n",
      "(1) Inflation Rate by Monthly and Sectoral\n",
      "(2) Expenses Statistics \n",
      "(3) Expenses Graphs\n",
      "(4) New Data Entry\n",
      "(q) Quit\n",
      "\n"
     ]
    },
    {
     "name": "stdin",
     "output_type": "stream",
     "text": [
      "Please select operation:  4\n"
     ]
    },
    {
     "name": "stdout",
     "output_type": "stream",
     "text": [
      "\n",
      "                  # New Data Entry Menu\n",
      "                  ---------------------\n",
      "                  Sector         Input\n",
      "                  Travel          :1\n",
      "                  Food            :2  \n",
      "                  Entertainment   :3\n",
      "                  SelfImp         :4\n",
      "                  PerCare         :5\n",
      "                  RentBills       :6\n",
      "                  SaveData        :s\n",
      "                  Quit            :q\n",
      "                  \n"
     ]
    },
    {
     "name": "stdin",
     "output_type": "stream",
     "text": [
      "Sector :  3\n",
      "Input expense  2.55\n"
     ]
    },
    {
     "name": "stdout",
     "output_type": "stream",
     "text": [
      "Sector : Entertainment and Expense : 2.550000\n"
     ]
    },
    {
     "name": "stdin",
     "output_type": "stream",
     "text": [
      "If you confirm input 1, if not input 0  0\n"
     ]
    },
    {
     "name": "stdout",
     "output_type": "stream",
     "text": [
      "\n",
      "                  # New Data Entry Menu\n",
      "                  ---------------------\n",
      "                  Sector         Input\n",
      "                  Travel          :1\n",
      "                  Food            :2  \n",
      "                  Entertainment   :3\n",
      "                  SelfImp         :4\n",
      "                  PerCare         :5\n",
      "                  RentBills       :6\n",
      "                  SaveData        :s\n",
      "                  Quit            :q\n",
      "                  \n"
     ]
    },
    {
     "name": "stdin",
     "output_type": "stream",
     "text": [
      "Sector :  q\n"
     ]
    },
    {
     "name": "stdout",
     "output_type": "stream",
     "text": [
      "Switching to the Main Menu...\n",
      "\n",
      "# Main Menu\n",
      "------------------------------------------\n",
      "(0) Show the Data                             \n",
      "(1) Inflation Rate by Monthly and Sectoral\n",
      "(2) Expenses Statistics \n",
      "(3) Expenses Graphs\n",
      "(4) New Data Entry\n",
      "(q) Quit\n",
      "\n"
     ]
    },
    {
     "name": "stdin",
     "output_type": "stream",
     "text": [
      "Please select operation:  0\n"
     ]
    },
    {
     "name": "stdout",
     "output_type": "stream",
     "text": [
      "         Expenses  Month     Sector\n",
      "0       51.357704      1     Travel\n",
      "1       63.357934      1     Travel\n",
      "2       58.176984      1     Travel\n",
      "3       50.029427      1     Travel\n",
      "4       54.219115      1     Travel\n",
      "...           ...    ...        ...\n",
      "1436   987.222136      6  RentBills\n",
      "1437  1932.079674      6  RentBills\n",
      "1438  1468.692007      6  RentBills\n",
      "1439  1948.790793      6  RentBills\n",
      "0        7.250000      7       Food\n",
      "\n",
      "[1441 rows x 3 columns]\n",
      "\n",
      "# Main Menu\n",
      "------------------------------------------\n",
      "(0) Show the Data                             \n",
      "(1) Inflation Rate by Monthly and Sectoral\n",
      "(2) Expenses Statistics \n",
      "(3) Expenses Graphs\n",
      "(4) New Data Entry\n",
      "(q) Quit\n",
      "\n"
     ]
    },
    {
     "name": "stdin",
     "output_type": "stream",
     "text": [
      "Please select operation:  4\n"
     ]
    },
    {
     "name": "stdout",
     "output_type": "stream",
     "text": [
      "\n",
      "                  # New Data Entry Menu\n",
      "                  ---------------------\n",
      "                  Sector         Input\n",
      "                  Travel          :1\n",
      "                  Food            :2  \n",
      "                  Entertainment   :3\n",
      "                  SelfImp         :4\n",
      "                  PerCare         :5\n",
      "                  RentBills       :6\n",
      "                  SaveData        :s\n",
      "                  Quit            :q\n",
      "                  \n"
     ]
    },
    {
     "name": "stdin",
     "output_type": "stream",
     "text": [
      "Sector :  4\n",
      "Input expense  55\n"
     ]
    },
    {
     "name": "stdout",
     "output_type": "stream",
     "text": [
      "Sector : SelfImp and Expense : 55.000000\n"
     ]
    },
    {
     "name": "stdin",
     "output_type": "stream",
     "text": [
      "If you confirm input 1, if not input 0  1\n"
     ]
    },
    {
     "name": "stdout",
     "output_type": "stream",
     "text": [
      "Data updated succesfully.\n",
      "\n",
      "                  # New Data Entry Menu\n",
      "                  ---------------------\n",
      "                  Sector         Input\n",
      "                  Travel          :1\n",
      "                  Food            :2  \n",
      "                  Entertainment   :3\n",
      "                  SelfImp         :4\n",
      "                  PerCare         :5\n",
      "                  RentBills       :6\n",
      "                  SaveData        :s\n",
      "                  Quit            :q\n",
      "                  \n"
     ]
    },
    {
     "name": "stdin",
     "output_type": "stream",
     "text": [
      "Sector :  q\n"
     ]
    },
    {
     "name": "stdout",
     "output_type": "stream",
     "text": [
      "Switching to the Main Menu...\n",
      "\n",
      "# Main Menu\n",
      "------------------------------------------\n",
      "(0) Show the Data                             \n",
      "(1) Inflation Rate by Monthly and Sectoral\n",
      "(2) Expenses Statistics \n",
      "(3) Expenses Graphs\n",
      "(4) New Data Entry\n",
      "(q) Quit\n",
      "\n"
     ]
    },
    {
     "name": "stdin",
     "output_type": "stream",
     "text": [
      "Please select operation:  3\n"
     ]
    },
    {
     "name": "stdout",
     "output_type": "stream",
     "text": [
      "\n",
      "            # Expenses Graphs Menu\n",
      "            -------------------------------------------\n",
      "            (1) Line Graph Based on Months and Secotrs\n",
      "            (2) Box-Plot based on Months\n",
      "            (3) Box-Plot based on Sectors\n",
      "            (4) Bar Chart based on Months and Sectors\n",
      "            (5) Bar Chart based on Months\n",
      "            (6) Bar Chart based on Sectors\n",
      "            (q) Back to Main Menu\n",
      "            \n"
     ]
    },
    {
     "name": "stdin",
     "output_type": "stream",
     "text": [
      "Please select operation : 5\n"
     ]
    },
    {
     "data": {
      "image/png": "[encoded data removed]",
      "text/plain": [
       "<Figure size 720x504 with 1 Axes>"
      ]
     },
     "metadata": {
      "needs_background": "light"
     },
     "output_type": "display_data"
    },
    {
     "name": "stdout",
     "output_type": "stream",
     "text": [
      "\n",
      "            # Expenses Graphs Menu\n",
      "            -------------------------------------------\n",
      "            (1) Line Graph Based on Months and Secotrs\n",
      "            (2) Box-Plot based on Months\n",
      "            (3) Box-Plot based on Sectors\n",
      "            (4) Bar Chart based on Months and Sectors\n",
      "            (5) Bar Chart based on Months\n",
      "            (6) Bar Chart based on Sectors\n",
      "            (q) Back to Main Menu\n",
      "            \n"
     ]
    }
   ],
   "source": [
    "import matplotlib.pyplot as plt\n",
    "import numpy as np\n",
    "import pandas as pd\n",
    "\n",
    "\n",
    "# Import Database\n",
    "data = pd.read_csv('data2020.csv')\n",
    "maxmonth = data['Month'].max()\n",
    "\n",
    "# Inflation Rate - Deniz\n",
    "def infrate(cpi1,cpi):\n",
    "    return (cpi1- cpi )/cpi\n",
    "\n",
    "Sector = [\"Travel\",\"Food\",\"Entertainment\",\"SelfImp\",\"PerCare\",\"RentBills\"]\n",
    "\n",
    "\n",
    "for j in Sector:\n",
    "    globals()['inf_'+str(j)] = [0]*(maxmonth-1)\n",
    "    a = globals()['inf_'+str(j)] \n",
    "    for i in range(0,maxmonth):\n",
    "        if i == maxmonth-1:\n",
    "            break\n",
    "        cpi1 =  data.loc[(data['Sector'] == j) & (data['Month'] == i+2)]['Expenses'].mean()\n",
    "        cpi =  data.loc[(data['Sector'] == j) & (data['Month'] == i+1)]['Expenses'].mean()\n",
    "        a[i] = infrate(cpi1,cpi)\n",
    "        globals()['inf_'+str(j)] = a\n",
    "\n",
    "list_inf = {\n",
    "        'Month' : np.arange(2,maxmonth+1),\n",
    "        'Travel' : inf_Travel,\n",
    "        'Food' : inf_Food,\n",
    "        'Entertainment' : inf_Entertainment,\n",
    "        'SelfImp' : inf_SelfImp,\n",
    "        'PerCare' : inf_PerCare,\n",
    "        'RentBills' : inf_RentBills\n",
    "        }\n",
    "inf_df = pd.DataFrame(list_inf)\n",
    "\n",
    "\n",
    "while True:\n",
    "    print(\"\"\"\n",
    "# Main Menu\n",
    "------------------------------------------\n",
    "(0) Show the Data                             \n",
    "(1) Inflation Rate by Monthly and Sectoral\n",
    "(2) Expenses Statistics \n",
    "(3) Expenses Graphs\n",
    "(4) New Data Entry\n",
    "(q) Quit\n",
    "\"\"\")\n",
    "\n",
    "\n",
    "    islem = input(\"Please select operation: \")\n",
    "    if islem == '0':\n",
    "        print(data)\n",
    "    if islem == \"q\":\n",
    "        print(\"Have a nice day.\")\n",
    "        break\n",
    "    elif islem == \"1\":\n",
    "        print(\"\"\" # Inflation Rate by Monthly and Sectoral Menu\n",
    "                  ----------------------------------------------\"\"\")\n",
    "        print(inf_df)\n",
    "\n",
    "    elif islem == \"2\":\n",
    "\n",
    "        while True:\n",
    "            print(\"\"\"\n",
    "          # Expenses Statistics Menu\n",
    "          (1) Monthly Statistics\n",
    "          (2) Sectoral Statistics\n",
    "          (3) Monthly and Sectoral Statistics\n",
    "          (q) Back to Main Menu\n",
    "          \"\"\")\n",
    "            islem3= input(\"Please select operation: \")\n",
    "\n",
    "            if islem3 == \"q\":\n",
    "                print('Switching to the Main Menu...')\n",
    "                break\n",
    "              \n",
    "            if islem3 == \"1\":\n",
    "                islem4 = input(\"If you want to view statistics for a specific month, enter the month number, enter \"\"All\"\" for all months.\")\n",
    "                if islem4 == 'All':\n",
    "                    print(data.groupby(['Month']).describe()['Expenses'])\n",
    "                else:\n",
    "                    islem4 = int(islem4)\n",
    "                    print(data.loc[data['Month'] == islem4,['Expenses']].describe()) \n",
    "            elif islem3 == \"2\":\n",
    "                print(\"\"\"\n",
    "                  Sector         Input\n",
    "                  --------------------\n",
    "                  Travel          :1\n",
    "                  Food            :2  \n",
    "                  Entertainment   :3\n",
    "                  SelfImp         :4\n",
    "                  PerCare         :5\n",
    "                  RentBills       :6\n",
    "                  All             :All\n",
    "                  \"\"\")\n",
    "                islem4 = input(\"Please select operation: \")\n",
    "                if islem4 == \"All\":\n",
    "                      print(data.groupby(['Sector']).describe()['Expenses'])\n",
    "                else:\n",
    "                    islem4 = int(islem4)\n",
    "                    print(data.loc[data['Sector'] == Sector[islem4-1],['Expenses']].describe()) \n",
    "               \n",
    "                  \n",
    "            elif islem3 == \"3\":\n",
    "                print(\"\"\"\n",
    "                  Sector         Input\n",
    "                  --------------------\n",
    "                  Travel          :1\n",
    "                  Food            :2  \n",
    "                  Entertainment   :3\n",
    "                  SelfImp         :4\n",
    "                  PerCare         :5\n",
    "                  RentBills       :6\n",
    "                  All             :All\n",
    "                  \"\"\")\n",
    "                islem4 = input(\"Select Sector :\")\n",
    "                islem5 = input(\"If you want to view statistics for a specific month, enter the month number, enter \"\"All\"\" for all months.\")\n",
    "                if(islem4 != \"All\") & (islem5 != \"All\"):\n",
    "                    print(data.loc[(data['Sector'] == Sector[int(islem4)-1]) & (data['Month'] ==int(islem5)),['Expenses']].describe())\n",
    "                elif(islem4 == \"All\") & (islem5 != \"All\"):\n",
    "                    print(data.loc[(data[\"Month\"] == int(islem5)) & (data[\"Sector\"]),'Expenses'].describe())\n",
    "                elif(islem5 == \"All\") & (islem4 != \"All\"):\n",
    "                    print(data.loc[(data[\"Month\"] ) & (data['Sector'] == Sector[int(islem4)-1]),'Expenses'].describe())\n",
    "                else:\n",
    "                    print(data.groupby(['Month','Sector']).describe()['Expenses'])\n",
    "                \n",
    "    elif islem == \"3\":\n",
    "        while True:\n",
    "            print(\"\"\"\n",
    "            # Expenses Graphs Menu\n",
    "            -------------------------------------------\n",
    "            (1) Line Graph Based on Months and Secotrs\n",
    "            (2) Box-Plot based on Months\n",
    "            (3) Box-Plot based on Sectors\n",
    "            (4) Bar Chart based on Months and Sectors\n",
    "            (5) Bar Chart based on Months\n",
    "            (6) Bar Chart based on Sectors\n",
    "            (q) Back to Main Menu\n",
    "            \"\"\")\n",
    "            islem1 = input(\"Please select operation :\")\n",
    "            if islem1 == \"q\":\n",
    "                print('Switching to the Main Menu...')\n",
    "                break\n",
    "            # Line Graph Sectoral-Monthly\n",
    "            if islem1 == \"1\":\n",
    "                fig, ax = plt.subplots(figsize=(10,7)) # Graph size \n",
    "                data.groupby(['Month','Sector']).mean()['Expenses'].unstack().plot(ax=ax)\n",
    "                ax.set_xlabel('Months')\n",
    "                ax.set_ylabel('Mean of Expenses')\n",
    "                plt.show()\n",
    "            # Monthly Box-Plot \n",
    "            elif islem1 == \"2\":\n",
    "                fig, ax = plt.subplots(figsize=(10,7))\n",
    "                data.boxplot(by ='Month', column =['Expenses'], grid = False,ax=ax)\n",
    "                ax.set_ylabel('Expenses')\n",
    "                ax.set_xlabel('Months')\n",
    "                plt.show()\n",
    "            # Sectoral Box-Plot\n",
    "            elif islem1 == \"3\":\n",
    "                fig, ax = plt.subplots(figsize=(10,7))\n",
    "                data.boxplot(by ='Sector', column =['Expenses'], grid = False,ax=ax)\n",
    "                ax.set_ylabel('Expenses')\n",
    "                ax.set_xlabel('Sectors')\n",
    "                plt.show()\n",
    "            # Monthly - Sectoral Bar Plot\n",
    "            elif islem1 == \"4\": \n",
    "                fig, ax = plt.subplots(figsize=(10,7))\n",
    "                data.groupby(['Month','Sector']).mean()['Expenses'].unstack().plot.bar(ax=ax)\n",
    "                ax.set_ylabel('Expenses')\n",
    "                ax.set_ylabel('Mean of Expenses')\n",
    "                plt.show()\n",
    "            # Monthly Bar Plot\n",
    "            elif islem1 == \"5\":\n",
    "                df_grouped = data.groupby(['Month']).mean()['Expenses']\n",
    "                fig, ax = plt.subplots(figsize=(10,7))\n",
    "                df_grouped.plot(x=\"Month\", y='Expenses', kind=\"bar\",ax=ax,rot=0)\n",
    "                ax.set_ylabel('Mean of Expenses')\n",
    "                ax.set_xlabel('Months')\n",
    "                plt.show()\n",
    "            # Sectoral Bar Plot  \n",
    "            elif islem1 == \"6\":\n",
    "                df_grouped = data.groupby(['Sector']).mean()['Expenses']\n",
    "                fig, ax = plt.subplots(figsize=(10,7))\n",
    "                df_grouped.plot(x=\"Sector\", y='Expenses', kind=\"bar\",ax=ax,rot=0)\n",
    "                ax.set_ylabel('Mean of Expenses')\n",
    "                ax.set_xlabel('Sectors')\n",
    "                plt.show()\n",
    "        \n",
    "    elif islem == \"4\":\n",
    "        while True:\n",
    "            \n",
    "            print(\"\"\"\n",
    "                  # New Data Entry Menu\n",
    "                  ---------------------\n",
    "                  Sector         Input\n",
    "                  Travel          :1\n",
    "                  Food            :2  \n",
    "                  Entertainment   :3\n",
    "                  SelfImp         :4\n",
    "                  PerCare         :5\n",
    "                  RentBills       :6\n",
    "                  SaveData        :s\n",
    "                  Quit            :q\n",
    "                  \"\"\")\n",
    "    \n",
    "            sec = input('Sector : ')\n",
    "            if sec == 's':\n",
    "                print(data)\n",
    "                confirm1 = input('If you confirm to save the data input 1, if not 0')\n",
    "                if confirm1 == '1':\n",
    "                    data.to_csv('data2020.csv',index=False)\n",
    "                    print('Data saved succesfully.')\n",
    "                    print('Switching to the Main Menu...')\n",
    "                    break\n",
    "                else:\n",
    "                    print('Data is not saved.')\n",
    "                    print('Switching to the Main Menu...')\n",
    "                    break\n",
    "            if sec == 'q':\n",
    "                print('Switching to the Main Menu...')\n",
    "                break\n",
    "            expense = input('Input expense ')\n",
    "            liste_input = {'Expenses' : [float(expense)],\n",
    "                          'Month': [maxmonth+1],\n",
    "                          'Sector':[Sector[int(sec)-1]]}\n",
    "            print(\"Sector : %s and Expense : %f\" % (Sector[int(sec)-1],float(expense)))\n",
    "            confirm = input(\"If you confirm input 1, if not input 0 \")\n",
    "            if confirm == '1':\n",
    "                df_in = pd.DataFrame(liste_input)\n",
    "                data = data.append(df_in)\n",
    "                print('Data updated succesfully.')"
   ]
  }
 ],
 "metadata": {
  "kernelspec": {
   "display_name": "Python 3",
   "language": "python",
   "name": "python3"
  },
  "language_info": {
   "codemirror_mode": {
    "name": "ipython",
    "version": 3
   },
   "file_extension": ".py",
   "mimetype": "text/x-python",
   "name": "python",
   "nbconvert_exporter": "python",
   "pygments_lexer": "ipython3",
   "version": "3.8.6"
  }
 },
 "nbformat": 4,
 "nbformat_minor": 4
}
